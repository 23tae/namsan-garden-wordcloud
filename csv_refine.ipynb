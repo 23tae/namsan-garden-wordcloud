{
 "cells": [
  {
   "cell_type": "code",
   "execution_count": 1,
   "metadata": {},
   "outputs": [],
   "source": [
    "import pandas as pd"
   ]
  },
  {
   "cell_type": "code",
   "execution_count": 2,
   "metadata": {},
   "outputs": [],
   "source": [
    "df = pd.read_csv('./data/namsan_reviews.csv')"
   ]
  },
  {
   "cell_type": "code",
   "execution_count": 5,
   "metadata": {},
   "outputs": [
    {
     "data": {
      "text/plain": [
       "Index(['place_id', 'place_name', 'review_id', 'rating', 'review_text',\n",
       "       'published_at', 'published_at_date', 'response_from_owner_text',\n",
       "       'response_from_owner_ago', 'response_from_owner_date',\n",
       "       'review_likes_count', 'total_number_of_reviews_by_reviewer',\n",
       "       'total_number_of_photos_by_reviewer', 'is_local_guide',\n",
       "       'review_translated_text', 'response_from_owner_translated_text'],\n",
       "      dtype='object')"
      ]
     },
     "execution_count": 5,
     "metadata": {},
     "output_type": "execute_result"
    }
   ],
   "source": [
    "df.columns"
   ]
  },
  {
   "cell_type": "code",
   "execution_count": 8,
   "metadata": {},
   "outputs": [],
   "source": [
    "df = df[['published_at', 'review_text']]"
   ]
  },
  {
   "cell_type": "code",
   "execution_count": 9,
   "metadata": {},
   "outputs": [
    {
     "data": {
      "text/html": [
       "<div>\n",
       "<style scoped>\n",
       "    .dataframe tbody tr th:only-of-type {\n",
       "        vertical-align: middle;\n",
       "    }\n",
       "\n",
       "    .dataframe tbody tr th {\n",
       "        vertical-align: top;\n",
       "    }\n",
       "\n",
       "    .dataframe thead th {\n",
       "        text-align: right;\n",
       "    }\n",
       "</style>\n",
       "<table border=\"1\" class=\"dataframe\">\n",
       "  <thead>\n",
       "    <tr style=\"text-align: right;\">\n",
       "      <th></th>\n",
       "      <th>published_at</th>\n",
       "      <th>review_text</th>\n",
       "    </tr>\n",
       "  </thead>\n",
       "  <tbody>\n",
       "    <tr>\n",
       "      <th>0</th>\n",
       "      <td>1일 전</td>\n",
       "      <td>아름다운 하이킹과 자연 지역. 포장된 길은 물론 자연 산책로도 많습니다. 우리가 택...</td>\n",
       "    </tr>\n",
       "    <tr>\n",
       "      <th>1</th>\n",
       "      <td>1주 전</td>\n",
       "      <td>NaN</td>\n",
       "    </tr>\n",
       "    <tr>\n",
       "      <th>2</th>\n",
       "      <td>2주 전</td>\n",
       "      <td>나무도 많고 앉아서  자연을 즐길 곳도 있어 자주 가는 곳입니다. 매번 느끼지만 참...</td>\n",
       "    </tr>\n",
       "    <tr>\n",
       "      <th>3</th>\n",
       "      <td>2주 전</td>\n",
       "      <td>NaN</td>\n",
       "    </tr>\n",
       "    <tr>\n",
       "      <th>4</th>\n",
       "      <td>1달 전</td>\n",
       "      <td>NaN</td>\n",
       "    </tr>\n",
       "    <tr>\n",
       "      <th>...</th>\n",
       "      <td>...</td>\n",
       "      <td>...</td>\n",
       "    </tr>\n",
       "    <tr>\n",
       "      <th>835</th>\n",
       "      <td>6년 전</td>\n",
       "      <td>겨울에는가지마세요 어떠한 볼거리도없고 사람도없고 연못이나 길가에는 얼음뿐입니다 식물...</td>\n",
       "    </tr>\n",
       "    <tr>\n",
       "      <th>836</th>\n",
       "      <td>6년 전</td>\n",
       "      <td>NaN</td>\n",
       "    </tr>\n",
       "    <tr>\n",
       "      <th>837</th>\n",
       "      <td>6년 전</td>\n",
       "      <td>NaN</td>\n",
       "    </tr>\n",
       "    <tr>\n",
       "      <th>838</th>\n",
       "      <td>6년 전</td>\n",
       "      <td>단풍들어 너무 이쁜데 주차가 어려움</td>\n",
       "    </tr>\n",
       "    <tr>\n",
       "      <th>839</th>\n",
       "      <td>6년 전</td>\n",
       "      <td>야간 산책로,   남산타워 최고의 전망대</td>\n",
       "    </tr>\n",
       "  </tbody>\n",
       "</table>\n",
       "<p>840 rows × 2 columns</p>\n",
       "</div>"
      ],
      "text/plain": [
       "    published_at                                        review_text\n",
       "0           1일 전  아름다운 하이킹과 자연 지역. 포장된 길은 물론 자연 산책로도 많습니다. 우리가 택...\n",
       "1           1주 전                                                NaN\n",
       "2           2주 전  나무도 많고 앉아서  자연을 즐길 곳도 있어 자주 가는 곳입니다. 매번 느끼지만 참...\n",
       "3           2주 전                                                NaN\n",
       "4           1달 전                                                NaN\n",
       "..           ...                                                ...\n",
       "835         6년 전  겨울에는가지마세요 어떠한 볼거리도없고 사람도없고 연못이나 길가에는 얼음뿐입니다 식물...\n",
       "836         6년 전                                                NaN\n",
       "837         6년 전                                                NaN\n",
       "838         6년 전                                단풍들어 너무 이쁜데 주차가 어려움\n",
       "839         6년 전                             야간 산책로,   남산타워 최고의 전망대\n",
       "\n",
       "[840 rows x 2 columns]"
      ]
     },
     "execution_count": 9,
     "metadata": {},
     "output_type": "execute_result"
    }
   ],
   "source": [
    "df"
   ]
  },
  {
   "cell_type": "code",
   "execution_count": 15,
   "metadata": {},
   "outputs": [
    {
     "name": "stderr",
     "output_type": "stream",
     "text": [
      "/var/folders/qr/d0tz05096cq7wtbf54br3qsw0000gn/T/ipykernel_21236/1379821321.py:1: SettingWithCopyWarning: \n",
      "A value is trying to be set on a copy of a slice from a DataFrame\n",
      "\n",
      "See the caveats in the documentation: https://pandas.pydata.org/pandas-docs/stable/user_guide/indexing.html#returning-a-view-versus-a-copy\n",
      "  df.dropna(inplace=True)\n"
     ]
    }
   ],
   "source": [
    "df.dropna(inplace=True)"
   ]
  },
  {
   "cell_type": "code",
   "execution_count": 16,
   "metadata": {},
   "outputs": [
    {
     "data": {
      "text/html": [
       "<div>\n",
       "<style scoped>\n",
       "    .dataframe tbody tr th:only-of-type {\n",
       "        vertical-align: middle;\n",
       "    }\n",
       "\n",
       "    .dataframe tbody tr th {\n",
       "        vertical-align: top;\n",
       "    }\n",
       "\n",
       "    .dataframe thead th {\n",
       "        text-align: right;\n",
       "    }\n",
       "</style>\n",
       "<table border=\"1\" class=\"dataframe\">\n",
       "  <thead>\n",
       "    <tr style=\"text-align: right;\">\n",
       "      <th></th>\n",
       "      <th>published_at</th>\n",
       "      <th>review_text</th>\n",
       "    </tr>\n",
       "  </thead>\n",
       "  <tbody>\n",
       "    <tr>\n",
       "      <th>0</th>\n",
       "      <td>1일 전</td>\n",
       "      <td>아름다운 하이킹과 자연 지역. 포장된 길은 물론 자연 산책로도 많습니다. 우리가 택...</td>\n",
       "    </tr>\n",
       "    <tr>\n",
       "      <th>2</th>\n",
       "      <td>2주 전</td>\n",
       "      <td>나무도 많고 앉아서  자연을 즐길 곳도 있어 자주 가는 곳입니다. 매번 느끼지만 참...</td>\n",
       "    </tr>\n",
       "    <tr>\n",
       "      <th>13</th>\n",
       "      <td>1달 전</td>\n",
       "      <td>산책하기 좋은 장소입니다. 작은 개천이 있어 물 소리를 들으며 힐링할 수 있습니다....</td>\n",
       "    </tr>\n",
       "    <tr>\n",
       "      <th>15</th>\n",
       "      <td>2달 전</td>\n",
       "      <td>지금은 사망</td>\n",
       "    </tr>\n",
       "    <tr>\n",
       "      <th>17</th>\n",
       "      <td>4달 전</td>\n",
       "      <td>늦은 밤, 와이프와 함께 드라이브겸 산책을 위해 다녀온곳. 자주는 못오더라도 가끔 ...</td>\n",
       "    </tr>\n",
       "    <tr>\n",
       "      <th>...</th>\n",
       "      <td>...</td>\n",
       "      <td>...</td>\n",
       "    </tr>\n",
       "    <tr>\n",
       "      <th>833</th>\n",
       "      <td>6년 전</td>\n",
       "      <td>따뜻할 때 시간 보내기 좋아요.</td>\n",
       "    </tr>\n",
       "    <tr>\n",
       "      <th>834</th>\n",
       "      <td>6년 전</td>\n",
       "      <td>좋아요</td>\n",
       "    </tr>\n",
       "    <tr>\n",
       "      <th>835</th>\n",
       "      <td>6년 전</td>\n",
       "      <td>겨울에는가지마세요 어떠한 볼거리도없고 사람도없고 연못이나 길가에는 얼음뿐입니다 식물...</td>\n",
       "    </tr>\n",
       "    <tr>\n",
       "      <th>838</th>\n",
       "      <td>6년 전</td>\n",
       "      <td>단풍들어 너무 이쁜데 주차가 어려움</td>\n",
       "    </tr>\n",
       "    <tr>\n",
       "      <th>839</th>\n",
       "      <td>6년 전</td>\n",
       "      <td>야간 산책로,   남산타워 최고의 전망대</td>\n",
       "    </tr>\n",
       "  </tbody>\n",
       "</table>\n",
       "<p>395 rows × 2 columns</p>\n",
       "</div>"
      ],
      "text/plain": [
       "    published_at                                        review_text\n",
       "0           1일 전  아름다운 하이킹과 자연 지역. 포장된 길은 물론 자연 산책로도 많습니다. 우리가 택...\n",
       "2           2주 전  나무도 많고 앉아서  자연을 즐길 곳도 있어 자주 가는 곳입니다. 매번 느끼지만 참...\n",
       "13          1달 전  산책하기 좋은 장소입니다. 작은 개천이 있어 물 소리를 들으며 힐링할 수 있습니다....\n",
       "15          2달 전                                             지금은 사망\n",
       "17          4달 전  늦은 밤, 와이프와 함께 드라이브겸 산책을 위해 다녀온곳. 자주는 못오더라도 가끔 ...\n",
       "..           ...                                                ...\n",
       "833         6년 전                                  따뜻할 때 시간 보내기 좋아요.\n",
       "834         6년 전                                                좋아요\n",
       "835         6년 전  겨울에는가지마세요 어떠한 볼거리도없고 사람도없고 연못이나 길가에는 얼음뿐입니다 식물...\n",
       "838         6년 전                                단풍들어 너무 이쁜데 주차가 어려움\n",
       "839         6년 전                             야간 산책로,   남산타워 최고의 전망대\n",
       "\n",
       "[395 rows x 2 columns]"
      ]
     },
     "execution_count": 16,
     "metadata": {},
     "output_type": "execute_result"
    }
   ],
   "source": [
    "df"
   ]
  },
  {
   "cell_type": "code",
   "execution_count": 17,
   "metadata": {},
   "outputs": [],
   "source": [
    "df.to_csv('./data/namsan_reviews_cleaned.csv', index=False)"
   ]
  },
  {
   "cell_type": "code",
   "execution_count": null,
   "metadata": {},
   "outputs": [],
   "source": []
  }
 ],
 "metadata": {
  "kernelspec": {
   "display_name": "base",
   "language": "python",
   "name": "python3"
  },
  "language_info": {
   "codemirror_mode": {
    "name": "ipython",
    "version": 3
   },
   "file_extension": ".py",
   "mimetype": "text/x-python",
   "name": "python",
   "nbconvert_exporter": "python",
   "pygments_lexer": "ipython3",
   "version": "3.11.8"
  }
 },
 "nbformat": 4,
 "nbformat_minor": 2
}
